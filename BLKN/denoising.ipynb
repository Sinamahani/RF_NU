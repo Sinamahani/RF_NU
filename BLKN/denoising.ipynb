{
 "cells": [
  {
   "cell_type": "code",
   "execution_count": 75,
   "metadata": {},
   "outputs": [],
   "source": [
    "import os\n",
    "import obspy\n",
    "import numpy as np\n",
    "\n",
    "old_main_root = 'DB'\n",
    "new_main_root = f\"{old_main_root}_deep\"\n",
    "old_file_list = \"02_detail.txt\"\n",
    "\n",
    "# making the directory\n",
    "def mk_root_file(file_name):\n",
    "    if not os.path.exists(file_name):\n",
    "        os.mkdir(file_name)\n",
    "\n",
    "mk_root_file(new_main_root)"
   ]
  },
  {
   "cell_type": "code",
   "execution_count": 76,
   "metadata": {},
   "outputs": [],
   "source": [
    "#reading old file list\n",
    "list_path = os.path.join(old_main_root,old_file_list)\n",
    "with open(list_path, 'r') as f:\n",
    "    list = f.readlines()\n",
    "    list = [x.split(' ')[0] for x in list if x.split(' ')[2] != \"None\"]\n",
    "\n",
    "fname_list = [\"fname\"]\n",
    "for data in list:\n",
    "    #reading\n",
    "    st = obspy.read(f\"{data}/raw*.sac\")\n",
    "\n",
    "    #writing\n",
    "    net = data.split('/')[1].split('_')[0]\n",
    "    sta = data.split('/')[1].split('_')[1]\n",
    "    date = data.split('/')[2]\n",
    "    st.write(f\"{new_main_root}/{net}.{sta}.{date}.mseed\", format=\"MSEED\")\n",
    "    fname_list.append(f\"{net}.{sta}.{date}.mseed\")\n",
    "\n",
    "with open(\"mseed.csv\", \"w\") as csv_file:\n",
    "    # Iterate through the list and write each item followed by a newline\n",
    "    for item in fname_list:\n",
    "        csv_file.write(item + \"\\n\")"
   ]
  }
 ],
 "metadata": {
  "kernelspec": {
   "display_name": "deepdenoiser",
   "language": "python",
   "name": "python3"
  },
  "language_info": {
   "codemirror_mode": {
    "name": "ipython",
    "version": 3
   },
   "file_extension": ".py",
   "mimetype": "text/x-python",
   "name": "python",
   "nbconvert_exporter": "python",
   "pygments_lexer": "ipython3",
   "version": "3.9.16"
  },
  "orig_nbformat": 4
 },
 "nbformat": 4,
 "nbformat_minor": 2
}
